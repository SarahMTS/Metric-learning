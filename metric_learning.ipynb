{
 "cells": [
  {
   "cell_type": "code",
   "execution_count": null,
   "id": "cc952ee2",
   "metadata": {},
   "outputs": [],
   "source": [
    "import os\n",
    "import random\n",
    "import matplotlib.pyplot as plt\n",
    "import numpy as np\n",
    "import tensorflow as tf\n",
    "from collections import defaultdict\n",
    "from PIL import Image\n",
    "from sklearn.metrics import ConfusionMatrixDisplay\n",
    "from tensorflow.keras import layers, models\n",
    "from tensorflow.keras.preprocessing.image import ImageDataGenerator"
   ]
  },
  {
   "cell_type": "code",
   "execution_count": null,
   "id": "be5ac805",
   "metadata": {},
   "outputs": [],
   "source": [
    "# Définir les chemins vers les dossiers d'entraînement et de validation\n",
    "train_dir = 'C:\\\\Users\\\\ITLAB-CLIENT05\\\\Desktop\\\\Sarah\\\\datasignature\\\\entrainement'\n",
    "val_dir = 'C:\\\\Users\\\\ITLAB-CLIENT05\\\\Desktop\\\\Sarah\\\\datasignature\\\\validation'"
   ]
  },
  {
   "cell_type": "code",
   "execution_count": null,
   "id": "691d0af7",
   "metadata": {},
   "outputs": [],
   "source": [
    "# Paramètres\n",
    "img_height, img_width = 128, 128  # Dimensions des images\n",
    "batch_size = 32  # Taille du batch\n",
    "num_classes = 114  # Nombre de classes"
   ]
  },
  {
   "cell_type": "code",
   "execution_count": null,
   "id": "cba47da3",
   "metadata": {},
   "outputs": [],
   "source": [
    "# Générateurs de données\n",
    "train_datagen = ImageDataGenerator(rescale=1.0/255.0)\n",
    "val_datagen = ImageDataGenerator(rescale=1.0/255.0)\n",
    "\n",
    "# Création des générateurs de données pour les vraies signatures uniquement\n",
    "train_generator = train_datagen.flow_from_directory(\n",
    "    os.path.join(train_dir, 'Vraies'),\n",
    "    target_size=(img_height, img_width),\n",
    "    batch_size=batch_size,\n",
    "    class_mode='sparse'\n",
    ")\n",
    "\n",
    "val_generator = val_datagen.flow_from_directory(\n",
    "    os.path.join(val_dir, 'Vraies'),\n",
    "    target_size=(img_height, img_width),\n",
    "    batch_size=batch_size,\n",
    "    class_mode='sparse'\n",
    ")"
   ]
  },
  {
   "cell_type": "code",
   "execution_count": null,
   "id": "a9545517",
   "metadata": {},
   "outputs": [],
   "source": [
    "# Générateur de paires ancre-positive\n",
    "class AnchorPositivePairs(tf.keras.utils.Sequence):\n",
    "    def __init__(self, generator, num_batches):\n",
    "        self.generator = generator\n",
    "        self.num_batches_ap = num_batches\n",
    "        self.class_idx_to_train_idxs = defaultdict(list)\n",
    "        for i in range(len(generator)):\n",
    "            _, labels = generator[i]\n",
    "            for idx, label in enumerate(labels):\n",
    "                self.class_idx_to_train_idxs[int(label)].append((i, idx))\n",
    "    \n",
    "    def __len__(self):\n",
    "        return self.num_batches_ap\n",
    "\n",
    "    def __getitem__(self, _idx):\n",
    "        anchors = np.empty((num_classes, img_height, img_width, 3), dtype=np.float32)\n",
    "        positives = np.empty((num_classes, img_height, img_width, 3), dtype=np.float32)\n",
    "        for class_idx in range(num_classes):\n",
    "            examples_for_class = self.class_idx_to_train_idxs[class_idx]\n",
    "            anchor_idx, anchor_sub_idx = random.choice(examples_for_class)\n",
    "            positive_idx, positive_sub_idx = random.choice(examples_for_class)\n",
    "            while positive_idx == anchor_idx and positive_sub_idx == anchor_sub_idx:\n",
    "                positive_idx, positive_sub_idx = random.choice(examples_for_class)\n",
    "            anchors[class_idx] = self.generator[anchor_idx][0][anchor_sub_idx]\n",
    "            positives[class_idx] = self.generator[positive_idx][0][positive_sub_idx]\n",
    "        return anchors, positives"
   ]
  },
  {
   "cell_type": "code",
   "execution_count": null,
   "id": "d119866f",
   "metadata": {},
   "outputs": [],
   "source": [
    "# Modèle d'apprentissage\n",
    "class EmbeddingModel(tf.keras.Model):\n",
    "    def train_step(self, data):\n",
    "        anchors, positives = data\n",
    "\n",
    "        with tf.GradientTape() as tape:\n",
    "            anchor_embeddings = self(anchors, training=True)\n",
    "            positive_embeddings = self(positives, training=True)\n",
    "\n",
    "            similarities = tf.einsum(\"ae,pe->ap\", anchor_embeddings, positive_embeddings)\n",
    "            temperature = 0.2\n",
    "            similarities /= temperature\n",
    "\n",
    "            sparse_labels = tf.range(num_classes)\n",
    "            loss = self.compiled_loss(sparse_labels, similarities)\n",
    "\n",
    "        gradients = tape.gradient(loss, self.trainable_variables)\n",
    "        self.optimizer.apply_gradients(zip(gradients, self.trainable_variables))\n",
    "\n",
    "        self.compiled_metrics.update_state(sparse_labels, similarities)\n",
    "        return {m.name: m.result() for m in self.metrics}\n",
    "\n",
    "inputs = layers.Input(shape=(img_height, img_width, 3))\n",
    "x = layers.Conv2D(filters=32, kernel_size=3, strides=2, activation=\"relu\")(inputs)\n",
    "x = layers.Conv2D(filters=64, kernel_size=3, strides=2, activation=\"relu\")(x)\n",
    "x = layers.Conv2D(filters=128, kernel_size=3, strides=2, activation=\"relu\")(x)\n",
    "x = layers.GlobalAveragePooling2D()(x)\n",
    "embeddings = layers.Dense(units=512, activation=None)(x)\n",
    "embeddings = tf.keras.layers.LayerNormalization()(embeddings)\n",
    "\n",
    "model = EmbeddingModel(inputs, embeddings)\n",
    "model.compile(\n",
    "    optimizer=tf.keras.optimizers.Adam(learning_rate=1e-3),\n",
    "    loss=tf.keras.losses.SparseCategoricalCrossentropy(from_logits=True),\n",
    "    metrics=[tf.keras.metrics.SparseCategoricalAccuracy()]\n",
    ")"
   ]
  },
  {
   "cell_type": "code",
   "execution_count": null,
   "id": "9f6243d2",
   "metadata": {},
   "outputs": [],
   "source": [
    "# Entraîner le modèle\n",
    "train_data = AnchorPositivePairs(train_generator, num_batches=1000)\n",
    "history = model.fit(train_data, epochs=2)"
   ]
  },
  {
   "cell_type": "code",
   "execution_count": null,
   "id": "7d2ec3da",
   "metadata": {},
   "outputs": [],
   "source": [
    "# Afficher la courbe de perte\n",
    "plt.plot(history.history[\"loss\"])\n",
    "plt.title(\"Courbe de perte\")\n",
    "plt.xlabel(\"Époque\")\n",
    "plt.ylabel(\"Perte\")\n",
    "plt.show()"
   ]
  },
  {
   "cell_type": "code",
   "execution_count": null,
   "id": "469bde7a",
   "metadata": {},
   "outputs": [],
   "source": [
    "# Évaluer le modèle\n",
    "val_data = AnchorPositivePairs(val_generator, num_batches=len(val_generator))\n",
    "embeddings = model.predict(val_data)\n",
    "gram_matrix = np.einsum(\"ae,be->ab\", embeddings, embeddings)\n",
    "near_neighbours = np.argsort(gram_matrix.T)[:, -(10 + 1) :]"
   ]
  },
  {
   "cell_type": "code",
   "execution_count": null,
   "id": "6ab55bb5",
   "metadata": {},
   "outputs": [],
   "source": [
    "# Afficher la matrice de confusion\n",
    "confusion_matrix = np.zeros((num_classes, num_classes))\n",
    "for class_idx in range(num_classes):\n",
    "    example_idxs = val_generator.index_array[val_generator.classes == class_idx][:10]\n",
    "    for y_test_idx in example_idxs:\n",
    "        for nn_idx in near_neighbours[y_test_idx][:-1]:\n",
    "            nn_class_idx = val_generator.classes[nn_idx]\n",
    "            confusion_matrix[class_idx, nn_class_idx] += 1\n",
    "\n",
    "labels = [\"Classe {}\".format(i) for i in range(num_classes)]\n",
    "disp = ConfusionMatrixDisplay(confusion_matrix=confusion_matrix, display_labels=labels)\n",
    "disp.plot(include_values=True, cmap=\"viridis\", ax=None, xticks_rotation=\"vertical\")\n",
    "plt.show()"
   ]
  }
 ],
 "metadata": {
  "kernelspec": {
   "display_name": "Python 3 (ipykernel)",
   "language": "python",
   "name": "python3"
  },
  "language_info": {
   "codemirror_mode": {
    "name": "ipython",
    "version": 3
   },
   "file_extension": ".py",
   "mimetype": "text/x-python",
   "name": "python",
   "nbconvert_exporter": "python",
   "pygments_lexer": "ipython3",
   "version": "3.9.7"
  }
 },
 "nbformat": 4,
 "nbformat_minor": 5
}
